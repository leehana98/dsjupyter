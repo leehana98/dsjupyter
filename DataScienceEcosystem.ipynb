{
 "cells": [
  {
   "cell_type": "markdown",
   "id": "3a55742f-f594-4f93-ade6-adaebac20156",
   "metadata": {},
   "source": [
    "# Data Science Tools and Ecosystem"
   ]
  },
  {
   "cell_type": "markdown",
   "id": "0385e1b1-c771-4304-8a59-85557ffa7642",
   "metadata": {},
   "source": [
    "In this notebook, Data Science Tools and Ecosystems are summarized."
   ]
  },
  {
   "cell_type": "markdown",
   "id": "299d1091-0381-4c4a-b855-cb6dd788e173",
   "metadata": {},
   "source": [
    "**Objectives:**\n",
    "* List popoular languages for Data Science\n",
    "* List commonly used libraries for Data Science\n",
    "* List Data Sceince tools"
   ]
  },
  {
   "cell_type": "markdown",
   "id": "5783211a-19ab-422d-be42-b9cc607b8837",
   "metadata": {},
   "source": [
    "Some of the popular languages that Data Scientist use are:\n",
    "1. Python\n",
    "2. R\n",
    "3. SQL\n",
    "4. Scala\n",
    "5. Java\n",
    "6. C++\n",
    "7. Julia"
   ]
  },
  {
   "cell_type": "markdown",
   "id": "2a22fe8b-e104-4ff2-a104-725aa8bbcc6b",
   "metadata": {},
   "source": [
    "Some of the commonly used libraries used by Data Scientists include:\n",
    "1. Pandas\n",
    "2. NumPy\n",
    "3. SciPy"
   ]
  },
  {
   "cell_type": "markdown",
   "id": "a9f92527-9d50-4d30-b258-c64dbaba5b6e",
   "metadata": {},
   "source": [
    "|Data Science Tools|\n",
    "|------------------|\n",
    "|mySQL|\n",
    "|ceph|\n",
    "|cassandra|"
   ]
  },
  {
   "cell_type": "markdown",
   "id": "f63f23fc-ae5b-419c-9568-88daa2b53134",
   "metadata": {},
   "source": [
    "### Below are a few examples of evaluating arithmetic expressions in Python"
   ]
  },
  {
   "cell_type": "code",
   "execution_count": 2,
   "id": "ec419d39-0d54-4739-aba5-47bdb081b375",
   "metadata": {},
   "outputs": [],
   "source": [
    "# This is a simple arithmetic expression to multiply then add integers. "
   ]
  },
  {
   "cell_type": "code",
   "execution_count": 3,
   "id": "2a0c647e-b202-4bfb-a6bb-9c1f4b6b0c1f",
   "metadata": {},
   "outputs": [
    {
     "data": {
      "text/plain": [
       "17"
      ]
     },
     "execution_count": 3,
     "metadata": {},
     "output_type": "execute_result"
    }
   ],
   "source": [
    "(3*4)+5"
   ]
  },
  {
   "cell_type": "code",
   "execution_count": 4,
   "id": "c8b67699-bd4e-47cb-b166-da520a0c07c6",
   "metadata": {},
   "outputs": [],
   "source": [
    "# This will convert 200 minutes to hours by dividing by 60"
   ]
  },
  {
   "cell_type": "code",
   "execution_count": 5,
   "id": "9bd19f71-c2da-4ab6-bb21-31d3be655731",
   "metadata": {},
   "outputs": [
    {
     "data": {
      "text/plain": [
       "3.3333333333333335"
      ]
     },
     "execution_count": 5,
     "metadata": {},
     "output_type": "execute_result"
    }
   ],
   "source": [
    "200/60"
   ]
  },
  {
   "cell_type": "markdown",
   "id": "e35c995e-afed-4047-befc-29259436bfdf",
   "metadata": {},
   "source": [
    "## Author\n",
    "Hana"
   ]
  },
  {
   "cell_type": "code",
   "execution_count": null,
   "id": "73e5cae6-99db-4ded-8746-b84e55cc8152",
   "metadata": {},
   "outputs": [],
   "source": []
  }
 ],
 "metadata": {
  "kernelspec": {
   "display_name": "Python 3 (ipykernel)",
   "language": "python",
   "name": "python3"
  },
  "language_info": {
   "codemirror_mode": {
    "name": "ipython",
    "version": 3
   },
   "file_extension": ".py",
   "mimetype": "text/x-python",
   "name": "python",
   "nbconvert_exporter": "python",
   "pygments_lexer": "ipython3",
   "version": "3.11.8"
  }
 },
 "nbformat": 4,
 "nbformat_minor": 5
}
